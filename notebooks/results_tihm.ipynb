{
 "cells": [
  {
   "cell_type": "code",
   "execution_count": 21,
   "id": "9e1ab75d-4338-40b8-8cb7-471ab59961b9",
   "metadata": {},
   "outputs": [
    {
     "name": "stdout",
     "output_type": "stream",
     "text": [
      "['../lightning_logs/tihm/results.pklz']\n",
      "f1score/train        0.246677\n",
      "sensitivity/train    0.811388\n",
      "specificity/train    0.778751\n",
      "f1score/val          0.253923\n",
      "sensitivity/val      0.715429\n",
      "specificity/val      0.765771\n",
      "f1score/test         0.099814\n",
      "sensitivity/test     0.580000\n",
      "specificity/test     0.745226\n",
      "dtype: float64\n",
      "f1score/train        0.033458\n",
      "sensitivity/train    0.054040\n",
      "specificity/train    0.050487\n",
      "f1score/val          0.239547\n",
      "sensitivity/val      0.168019\n",
      "specificity/val      0.110008\n",
      "f1score/test         0.007901\n",
      "sensitivity/test     0.044721\n",
      "specificity/test     0.040067\n",
      "dtype: float64\n"
     ]
    }
   ],
   "source": [
    "from glob import glob\n",
    "import os\n",
    "import pickle as pkl\n",
    "import zlib\n",
    "from utils_tbox.utils_tbox import read_pklz\n",
    "import pandas as pd\n",
    "import matplotlib.pyplot as plt\n",
    "\n",
    "root=\"../lightning_logs/tihm/\"\n",
    "all_files = glob(os.path.join(root, \"results.pklz\"))\n",
    "print(all_files)\n",
    "all_data = [read_pklz(fname) for fname in all_files][0]\n",
    "\n",
    "train_results = pd.DataFrame([thedata[0][0] for thedata in all_data])\n",
    "train_results.columns = [s.replace(\"val\",\"train\") for s in train_results.columns]\n",
    "\n",
    "val_results = pd.DataFrame([thedata[1][0] for thedata in all_data])\n",
    "test_results = pd.DataFrame([thedata[2][0] for thedata in all_data])\n",
    "test_results.columns = [s.replace(\"val\",\"test\") for s in test_results.columns]\n",
    "\n",
    "all_results = pd.concat([train_results, val_results, test_results], axis=1)\n",
    "\n",
    "print(all_results.mean(0))\n",
    "print(all_results.std(0))"
   ]
  },
  {
   "cell_type": "code",
   "execution_count": 18,
   "id": "89e69bdf-bb48-4d25-9656-1e5d00044f9c",
   "metadata": {},
   "outputs": [
    {
     "name": "stdout",
     "output_type": "stream",
     "text": [
      "f1score/train        0.175784\n",
      "sensitivity/train    0.760655\n",
      "specificity/train    0.458865\n",
      "f1score/val          0.085642\n",
      "sensitivity/val      0.462653\n",
      "specificity/val      0.724259\n",
      "f1score/test         0.066639\n",
      "sensitivity/test     0.660000\n",
      "specificity/test     0.430151\n",
      "dtype: float64\n",
      "f1score/train        0.127421\n",
      "sensitivity/train    0.261131\n",
      "specificity/train    0.448081\n",
      "f1score/val          0.085969\n",
      "sensitivity/val      0.428409\n",
      "specificity/val      0.214038\n",
      "f1score/test         0.023448\n",
      "sensitivity/test     0.397492\n",
      "specificity/test     0.436327\n",
      "dtype: float64\n"
     ]
    }
   ],
   "source": []
  },
  {
   "cell_type": "code",
   "execution_count": 38,
   "id": "2bbd1f49-784d-453a-ad5d-ad77863a8174",
   "metadata": {},
   "outputs": [
    {
     "ename": "TypeError",
     "evalue": "Axes.bar() missing 1 required positional argument: 'height'",
     "output_type": "error",
     "traceback": [
      "\u001b[0;31m---------------------------------------------------------------------------\u001b[0m",
      "\u001b[0;31mTypeError\u001b[0m                                 Traceback (most recent call last)",
      "Cell \u001b[0;32mIn[38], line 2\u001b[0m\n\u001b[1;32m      1\u001b[0m fig,ax\u001b[38;5;241m=\u001b[39mplt\u001b[38;5;241m.\u001b[39msubplots()\n\u001b[0;32m----> 2\u001b[0m \u001b[43max\u001b[49m\u001b[38;5;241;43m.\u001b[39;49m\u001b[43mbar\u001b[49m\u001b[43m(\u001b[49m\u001b[43mall_results\u001b[49m\u001b[43m[\u001b[49m\u001b[43m[\u001b[49m\u001b[38;5;124;43m\"\u001b[39;49m\u001b[38;5;124;43mf1score/train\u001b[39;49m\u001b[38;5;124;43m\"\u001b[39;49m\u001b[43m,\u001b[49m\u001b[38;5;124;43m\"\u001b[39;49m\u001b[38;5;124;43mf1score/val\u001b[39;49m\u001b[38;5;124;43m\"\u001b[39;49m\u001b[43m]\u001b[49m\u001b[43m]\u001b[49m\u001b[43m)\u001b[49m\n",
      "File \u001b[0;32m~/projects/dataintegration/pyenv/lib/python3.12/site-packages/matplotlib/__init__.py:1521\u001b[0m, in \u001b[0;36m_preprocess_data.<locals>.inner\u001b[0;34m(ax, data, *args, **kwargs)\u001b[0m\n\u001b[1;32m   1518\u001b[0m \u001b[38;5;129m@functools\u001b[39m\u001b[38;5;241m.\u001b[39mwraps(func)\n\u001b[1;32m   1519\u001b[0m \u001b[38;5;28;01mdef\u001b[39;00m\u001b[38;5;250m \u001b[39m\u001b[38;5;21minner\u001b[39m(ax, \u001b[38;5;241m*\u001b[39margs, data\u001b[38;5;241m=\u001b[39m\u001b[38;5;28;01mNone\u001b[39;00m, \u001b[38;5;241m*\u001b[39m\u001b[38;5;241m*\u001b[39mkwargs):\n\u001b[1;32m   1520\u001b[0m     \u001b[38;5;28;01mif\u001b[39;00m data \u001b[38;5;129;01mis\u001b[39;00m \u001b[38;5;28;01mNone\u001b[39;00m:\n\u001b[0;32m-> 1521\u001b[0m         \u001b[38;5;28;01mreturn\u001b[39;00m \u001b[43mfunc\u001b[49m\u001b[43m(\u001b[49m\n\u001b[1;32m   1522\u001b[0m \u001b[43m            \u001b[49m\u001b[43max\u001b[49m\u001b[43m,\u001b[49m\n\u001b[1;32m   1523\u001b[0m \u001b[43m            \u001b[49m\u001b[38;5;241;43m*\u001b[39;49m\u001b[38;5;28;43mmap\u001b[39;49m\u001b[43m(\u001b[49m\u001b[43mcbook\u001b[49m\u001b[38;5;241;43m.\u001b[39;49m\u001b[43msanitize_sequence\u001b[49m\u001b[43m,\u001b[49m\u001b[43m \u001b[49m\u001b[43margs\u001b[49m\u001b[43m)\u001b[49m\u001b[43m,\u001b[49m\n\u001b[1;32m   1524\u001b[0m \u001b[43m            \u001b[49m\u001b[38;5;241;43m*\u001b[39;49m\u001b[38;5;241;43m*\u001b[39;49m\u001b[43m{\u001b[49m\u001b[43mk\u001b[49m\u001b[43m:\u001b[49m\u001b[43m \u001b[49m\u001b[43mcbook\u001b[49m\u001b[38;5;241;43m.\u001b[39;49m\u001b[43msanitize_sequence\u001b[49m\u001b[43m(\u001b[49m\u001b[43mv\u001b[49m\u001b[43m)\u001b[49m\u001b[43m \u001b[49m\u001b[38;5;28;43;01mfor\u001b[39;49;00m\u001b[43m \u001b[49m\u001b[43mk\u001b[49m\u001b[43m,\u001b[49m\u001b[43m \u001b[49m\u001b[43mv\u001b[49m\u001b[43m \u001b[49m\u001b[38;5;129;43;01min\u001b[39;49;00m\u001b[43m \u001b[49m\u001b[43mkwargs\u001b[49m\u001b[38;5;241;43m.\u001b[39;49m\u001b[43mitems\u001b[49m\u001b[43m(\u001b[49m\u001b[43m)\u001b[49m\u001b[43m}\u001b[49m\u001b[43m)\u001b[49m\n\u001b[1;32m   1526\u001b[0m     bound \u001b[38;5;241m=\u001b[39m new_sig\u001b[38;5;241m.\u001b[39mbind(ax, \u001b[38;5;241m*\u001b[39margs, \u001b[38;5;241m*\u001b[39m\u001b[38;5;241m*\u001b[39mkwargs)\n\u001b[1;32m   1527\u001b[0m     auto_label \u001b[38;5;241m=\u001b[39m (bound\u001b[38;5;241m.\u001b[39marguments\u001b[38;5;241m.\u001b[39mget(label_namer)\n\u001b[1;32m   1528\u001b[0m                   \u001b[38;5;129;01mor\u001b[39;00m bound\u001b[38;5;241m.\u001b[39mkwargs\u001b[38;5;241m.\u001b[39mget(label_namer))\n",
      "\u001b[0;31mTypeError\u001b[0m: Axes.bar() missing 1 required positional argument: 'height'"
     ]
    },
    {
     "data": {
      "image/png": "[encoded data removed]",
      "text/plain": [
       "<Figure size 640x480 with 1 Axes>"
      ]
     },
     "metadata": {},
     "output_type": "display_data"
    }
   ],
   "source": [
    "fig,ax=plt.subplots()\n",
    "ax.bar(all_results[[\"f1score/train\",\"f1score/val\"]])"
   ]
  },
  {
   "cell_type": "code",
   "execution_count": 14,
   "id": "ced65410-380d-4495-9d65-0617f1ccd38a",
   "metadata": {},
   "outputs": [
    {
     "data": {
      "text/plain": [
       "5"
      ]
     },
     "execution_count": 14,
     "metadata": {},
     "output_type": "execute_result"
    }
   ],
   "source": [
    "len(all_data[0])"
   ]
  },
  {
   "cell_type": "code",
   "execution_count": 3,
   "id": "44ecc303-9bb6-4d85-a4fa-8ccb90d7ebe7",
   "metadata": {},
   "outputs": [
    {
     "name": "stdout",
     "output_type": "stream",
     "text": [
      "/home/antoine/projects/dataintegration/pyenv/bin/python\n"
     ]
    }
   ],
   "source": [
    "    ax.cla()\n",
    "    ax.bar([0,1],[sensitivity,specificity], label=[\"Sensitivity\", \"Specificity\"], color=[\"darkblue\",\"darkred\"],alpha=0.5)\n",
    "    ax.legend()\n",
    "    ax.set_ylim([0,1])\n",
    "    ax.set_xlim([-2,3])"
   ]
  },
  {
   "cell_type": "code",
   "execution_count": 3,
   "id": "ec49b384-4d0d-40fe-811f-f3d1919971b8",
   "metadata": {},
   "outputs": [
    {
     "ename": "ModuleNotFoundError",
     "evalue": "No module named 'utils_tbox'",
     "output_type": "error",
     "traceback": [
      "\u001b[0;31m---------------------------------------------------------------------------\u001b[0m",
      "\u001b[0;31mModuleNotFoundError\u001b[0m                       Traceback (most recent call last)",
      "Cell \u001b[0;32mIn[3], line 1\u001b[0m\n\u001b[0;32m----> 1\u001b[0m \u001b[38;5;28;01mimport\u001b[39;00m\u001b[38;5;250m \u001b[39m\u001b[38;5;21;01mutils_tbox\u001b[39;00m\n",
      "\u001b[0;31mModuleNotFoundError\u001b[0m: No module named 'utils_tbox'"
     ]
    }
   ],
   "source": []
  }
 ],
 "metadata": {
  "kernelspec": {
   "display_name": "pydataintegration",
   "language": "python",
   "name": "pydataintegration"
  },
  "language_info": {
   "codemirror_mode": {
    "name": "ipython",
    "version": 3
   },
   "file_extension": ".py",
   "mimetype": "text/x-python",
   "name": "python",
   "nbconvert_exporter": "python",
   "pygments_lexer": "ipython3",
   "version": "3.12.3"
  }
 },
 "nbformat": 4,
 "nbformat_minor": 5
}
